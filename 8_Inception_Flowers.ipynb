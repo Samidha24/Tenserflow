{
  "nbformat": 4,
  "nbformat_minor": 0,
  "metadata": {
    "colab": {
      "provenance": []
    },
    "kernelspec": {
      "name": "python3",
      "display_name": "Python 3"
    },
    "language_info": {
      "name": "python"
    }
  },
  "cells": [
    {
      "cell_type": "code",
      "execution_count": 1,
      "metadata": {
        "id": "vtDnWpCr3PY5"
      },
      "outputs": [],
      "source": [
        "import tensorflow as tf\n",
        "import numpy as np\n",
        "import matplotlib.pyplot as plt\n",
        "import tensorflow_hub as hub\n",
        "import tensorflow_datasets as tfds\n",
        "from tensorflow.keras import layers\n",
        "import logging\n",
        "logger = tf.get_logger()\n",
        "logger.setLevel(logging.ERROR)"
      ]
    },
    {
      "cell_type": "code",
      "source": [
        "IMAGE_RES = 299"
      ],
      "metadata": {
        "id": "P6wUWych3YnV"
      },
      "execution_count": 2,
      "outputs": []
    },
    {
      "cell_type": "code",
      "source": [
        "(training_set,validation_set),dataset_info = tfds.load(\"tf_flowers\",\n",
        "                                                      with_info=True,\n",
        "                                                      as_supervised=True,\n",
        "                                                      split=['train[:70%]','train[70%:]'])"
      ],
      "metadata": {
        "id": "K7Y5bxLw3Yp9"
      },
      "execution_count": 3,
      "outputs": []
    },
    {
      "cell_type": "code",
      "source": [
        "num_training_examples = 0\n",
        "num_validation_examples = 0\n",
        "for example in training_set:\n",
        "    num_training_examples += 1\n",
        "for example in validation_set:\n",
        "    num_validation_examples += 1"
      ],
      "metadata": {
        "id": "-MiyErKg3Ysd"
      },
      "execution_count": 4,
      "outputs": []
    },
    {
      "cell_type": "code",
      "source": [
        "num_training_examples"
      ],
      "metadata": {
        "colab": {
          "base_uri": "https://localhost:8080/"
        },
        "id": "hXzhc2J43YwE",
        "outputId": "e2291280-54f4-47e7-a9d9-56c887c0d624"
      },
      "execution_count": 5,
      "outputs": [
        {
          "output_type": "execute_result",
          "data": {
            "text/plain": [
              "2569"
            ]
          },
          "metadata": {},
          "execution_count": 5
        }
      ]
    },
    {
      "cell_type": "code",
      "source": [
        "num_validation_examples"
      ],
      "metadata": {
        "colab": {
          "base_uri": "https://localhost:8080/"
        },
        "id": "M84HlmaK3gt6",
        "outputId": "1ca7a6b4-e3e0-4f7f-c68b-e537d01bf6d7"
      },
      "execution_count": 6,
      "outputs": [
        {
          "output_type": "execute_result",
          "data": {
            "text/plain": [
              "1101"
            ]
          },
          "metadata": {},
          "execution_count": 6
        }
      ]
    },
    {
      "cell_type": "code",
      "source": [
        "num_classes = dataset_info.features['label'].num_classes"
      ],
      "metadata": {
        "id": "KKH1l6D43gxk"
      },
      "execution_count": 7,
      "outputs": []
    },
    {
      "cell_type": "code",
      "source": [
        "num_classes"
      ],
      "metadata": {
        "colab": {
          "base_uri": "https://localhost:8080/"
        },
        "id": "0uKQ2x-O3g1E",
        "outputId": "6369f2bc-22bf-4762-9a40-f2bead85431e"
      },
      "execution_count": 8,
      "outputs": [
        {
          "output_type": "execute_result",
          "data": {
            "text/plain": [
              "5"
            ]
          },
          "metadata": {},
          "execution_count": 8
        }
      ]
    },
    {
      "cell_type": "code",
      "source": [
        "def format_image(image,label):\n",
        "    image = tf.image.resize(image,(IMAGE_RES,IMAGE_RES))/255.0\n",
        "    return image, label"
      ],
      "metadata": {
        "id": "yEq-fN653pID"
      },
      "execution_count": 9,
      "outputs": []
    },
    {
      "cell_type": "code",
      "source": [
        "train_batches = training_set.shuffle(num_training_examples//4).map(format_image).batch(32).prefetch(1)\n",
        "validation_batches = validation_set.map(format_image).batch(32).prefetch(1)"
      ],
      "metadata": {
        "id": "5vFilmWC3pKd"
      },
      "execution_count": 10,
      "outputs": []
    },
    {
      "cell_type": "code",
      "source": [
        "URL = \"https://tfhub.dev/google/tf2-preview/inception_v3/feature_vector/4\""
      ],
      "metadata": {
        "id": "IAt0_kUH3pNN"
      },
      "execution_count": 11,
      "outputs": []
    },
    {
      "cell_type": "code",
      "source": [
        "feature_extractor = hub.KerasLayer(URL,\n",
        "                                  input_shape=(IMAGE_RES,IMAGE_RES,3),\n",
        "                                  trainable=False)"
      ],
      "metadata": {
        "id": "96U_J3XM3pPy"
      },
      "execution_count": 12,
      "outputs": []
    },
    {
      "cell_type": "code",
      "source": [
        "model_inception = tf.keras.Sequential([\n",
        "    feature_extractor,\n",
        "    tf.keras.layers.Dense(num_classes)\n",
        "])"
      ],
      "metadata": {
        "id": "7-aJIARA3pSO"
      },
      "execution_count": 13,
      "outputs": []
    },
    {
      "cell_type": "code",
      "source": [
        "model_inception.summary()"
      ],
      "metadata": {
        "colab": {
          "base_uri": "https://localhost:8080/"
        },
        "id": "LRcxvLqJ3pVG",
        "outputId": "720882f1-8af6-4e19-bbe2-059be505b774"
      },
      "execution_count": 14,
      "outputs": [
        {
          "output_type": "stream",
          "name": "stdout",
          "text": [
            "Model: \"sequential\"\n",
            "_________________________________________________________________\n",
            " Layer (type)                Output Shape              Param #   \n",
            "=================================================================\n",
            " keras_layer (KerasLayer)    (None, 2048)              21802784  \n",
            "                                                                 \n",
            " dense (Dense)               (None, 5)                 10245     \n",
            "                                                                 \n",
            "=================================================================\n",
            "Total params: 21813029 (83.21 MB)\n",
            "Trainable params: 10245 (40.02 KB)\n",
            "Non-trainable params: 21802784 (83.17 MB)\n",
            "_________________________________________________________________\n"
          ]
        }
      ]
    },
    {
      "cell_type": "code",
      "source": [
        "model_inception.compile(optimizer='adam',\n",
        "                       loss=tf.keras.losses.SparseCategoricalCrossentropy(from_logits=True),metrics=['accuracy'])\n",
        "Epochs = 6\n",
        "history = model_inception.fit(train_batches,epochs=Epochs,\n",
        "                             validation_data=validation_batches)\n",
        "#plot Training\n",
        "acc = history.history['accuracy']\n",
        "val_acc = history.history['val_accuracy']\n",
        "loss = history.history['loss']\n",
        "val_loss = history.history['val_loss']\n",
        "epochs_range = range(Epochs)\n",
        "plt.figure(figsize=(8,4))\n",
        "plt.subplot(1,2,1)\n",
        "plt.plot(epochs_range,acc,label='Train Accuracy')\n",
        "plt.plot(epochs_range,val_acc,label='Val_Accuracy')\n",
        "plt.legend(loc=0)\n",
        "plt.subplot(1,2,2)\n",
        "plt.plot(epochs_range,loss,label='Train Loss')\n",
        "plt.plot(epochs_range,val_loss,label='Validation Loss')\n",
        "plt.legend(loc=0)\n",
        "plt.show()"
      ],
      "metadata": {
        "colab": {
          "base_uri": "https://localhost:8080/",
          "height": 576
        },
        "id": "ZlHDlXC73pYf",
        "outputId": "69efdeab-b3f3-404a-888a-2ef73e2096ef"
      },
      "execution_count": 15,
      "outputs": [
        {
          "output_type": "stream",
          "name": "stdout",
          "text": [
            "Epoch 1/6\n",
            "81/81 [==============================] - 886s 11s/step - loss: 0.8062 - accuracy: 0.6964 - val_loss: 0.4966 - val_accuracy: 0.8401\n",
            "Epoch 2/6\n",
            "81/81 [==============================] - 848s 11s/step - loss: 0.4216 - accuracy: 0.8622 - val_loss: 0.3849 - val_accuracy: 0.8783\n",
            "Epoch 3/6\n",
            "81/81 [==============================] - 854s 11s/step - loss: 0.3250 - accuracy: 0.8941 - val_loss: 0.3340 - val_accuracy: 0.8901\n",
            "Epoch 4/6\n",
            "81/81 [==============================] - 865s 11s/step - loss: 0.2789 - accuracy: 0.9136 - val_loss: 0.3244 - val_accuracy: 0.8856\n",
            "Epoch 5/6\n",
            "81/81 [==============================] - 860s 11s/step - loss: 0.2443 - accuracy: 0.9276 - val_loss: 0.3004 - val_accuracy: 0.8865\n",
            "Epoch 6/6\n",
            "81/81 [==============================] - 859s 11s/step - loss: 0.2151 - accuracy: 0.9330 - val_loss: 0.2887 - val_accuracy: 0.9010\n"
          ]
        },
        {
          "output_type": "display_data",
          "data": {
            "text/plain": [
              "<Figure size 800x400 with 2 Axes>"
            ],
            "image/png": "[encoded data removed]"
          },
          "metadata": {}
        }
      ]
    },
    {
      "cell_type": "code",
      "source": [
        "class_names = np.array(dataset_info.features['label'].names)\n",
        "image_batch,label_batch = next(iter(train_batches))\n",
        "image_batch = image_batch.numpy()\n",
        "label_batch = label_batch.numpy()\n",
        "predicted_batch = model_inception.predict(image_batch)\n",
        "predicted_batch = tf.squeeze(predicted_batch).numpy()\n",
        "predicted_ids = np.argmax(predicted_batch,axis=-1)"
      ],
      "metadata": {
        "colab": {
          "base_uri": "https://localhost:8080/"
        },
        "id": "xjKoCHs5bKPK",
        "outputId": "eb7fd56f-9387-41ed-8746-7868bca14c83"
      },
      "execution_count": 18,
      "outputs": [
        {
          "output_type": "stream",
          "name": "stdout",
          "text": [
            "1/1 [==============================] - 9s 9s/step\n"
          ]
        }
      ]
    },
    {
      "cell_type": "code",
      "source": [],
      "metadata": {
        "id": "KkIgRAIqbMVO"
      },
      "execution_count": null,
      "outputs": []
    }
  ]
}