{
  "nbformat": 4,
  "nbformat_minor": 0,
  "metadata": {
    "colab": {
      "provenance": []
    },
    "kernelspec": {
      "name": "python3",
      "display_name": "Python 3"
    },
    "language_info": {
      "name": "python"
    }
  },
  "cells": [
    {
      "cell_type": "code",
      "execution_count": 1,
      "metadata": {
        "id": "N9vToBSaoxg_"
      },
      "outputs": [],
      "source": [
        "import tensorflow as tf\n",
        "from tensorflow.keras.preprocessing.text import Tokenizer\n",
        "from tensorflow.keras.preprocessing.sequence import pad_sequences\n",
        "import numpy as np\n",
        "import pandas as pd"
      ]
    },
    {
      "cell_type": "code",
      "source": [
        "path = tf.keras.utils.get_file(\"reviews.csv\",\"https://drive.google.com/uc?id=13ySLC_ue6Umt9RJYSeM2t-V0kCv-4C-P\")"
      ],
      "metadata": {
        "id": "JHqXpsWco1P8"
      },
      "execution_count": 2,
      "outputs": []
    },
    {
      "cell_type": "code",
      "source": [
        "path"
      ],
      "metadata": {
        "colab": {
          "base_uri": "https://localhost:8080/",
          "height": 36
        },
        "id": "D2L8IWJXo1Vc",
        "outputId": "2186a0e5-9059-4fd0-9aa1-04c86a934b46"
      },
      "execution_count": 3,
      "outputs": [
        {
          "output_type": "execute_result",
          "data": {
            "text/plain": [
              "'/root/.keras/datasets/reviews.csv'"
            ],
            "application/vnd.google.colaboratory.intrinsic+json": {
              "type": "string"
            }
          },
          "metadata": {},
          "execution_count": 3
        }
      ]
    },
    {
      "cell_type": "code",
      "source": [
        "dataset = pd.read_csv('/root/.keras/datasets/reviews.csv')"
      ],
      "metadata": {
        "id": "F2eM8urso1Y7"
      },
      "execution_count": 4,
      "outputs": []
    },
    {
      "cell_type": "code",
      "source": [
        "dataset.head()"
      ],
      "metadata": {
        "colab": {
          "base_uri": "https://localhost:8080/",
          "height": 206
        },
        "id": "ZRj60yEspBO0",
        "outputId": "ce0eebc6-31ab-4d3f-d5e3-07c60689dc3e"
      },
      "execution_count": 5,
      "outputs": [
        {
          "output_type": "execute_result",
          "data": {
            "text/plain": [
              "   Unnamed: 0                                               text  sentiment\n",
              "0           0  So there is no way for me to plug it in here i...          0\n",
              "1           1                         Good case Excellent value.          1\n",
              "2           2                             Great for the jawbone.          1\n",
              "3           3  Tied to charger for conversations lasting more...          0\n",
              "4           4                                  The mic is great.          1"
            ],
            "text/html": [
              "\n",
              "  <div id=\"df-f681216a-8020-4bf4-9c05-e115adbb42b5\" class=\"colab-df-container\">\n",
              "    <div>\n",
              "<style scoped>\n",
              "    .dataframe tbody tr th:only-of-type {\n",
              "        vertical-align: middle;\n",
              "    }\n",
              "\n",
              "    .dataframe tbody tr th {\n",
              "        vertical-align: top;\n",
              "    }\n",
              "\n",
              "    .dataframe thead th {\n",
              "        text-align: right;\n",
              "    }\n",
              "</style>\n",
              "<table border=\"1\" class=\"dataframe\">\n",
              "  <thead>\n",
              "    <tr style=\"text-align: right;\">\n",
              "      <th></th>\n",
              "      <th>Unnamed: 0</th>\n",
              "      <th>text</th>\n",
              "      <th>sentiment</th>\n",
              "    </tr>\n",
              "  </thead>\n",
              "  <tbody>\n",
              "    <tr>\n",
              "      <th>0</th>\n",
              "      <td>0</td>\n",
              "      <td>So there is no way for me to plug it in here i...</td>\n",
              "      <td>0</td>\n",
              "    </tr>\n",
              "    <tr>\n",
              "      <th>1</th>\n",
              "      <td>1</td>\n",
              "      <td>Good case Excellent value.</td>\n",
              "      <td>1</td>\n",
              "    </tr>\n",
              "    <tr>\n",
              "      <th>2</th>\n",
              "      <td>2</td>\n",
              "      <td>Great for the jawbone.</td>\n",
              "      <td>1</td>\n",
              "    </tr>\n",
              "    <tr>\n",
              "      <th>3</th>\n",
              "      <td>3</td>\n",
              "      <td>Tied to charger for conversations lasting more...</td>\n",
              "      <td>0</td>\n",
              "    </tr>\n",
              "    <tr>\n",
              "      <th>4</th>\n",
              "      <td>4</td>\n",
              "      <td>The mic is great.</td>\n",
              "      <td>1</td>\n",
              "    </tr>\n",
              "  </tbody>\n",
              "</table>\n",
              "</div>\n",
              "    <div class=\"colab-df-buttons\">\n",
              "\n",
              "  <div class=\"colab-df-container\">\n",
              "    <button class=\"colab-df-convert\" onclick=\"convertToInteractive('df-f681216a-8020-4bf4-9c05-e115adbb42b5')\"\n",
              "            title=\"Convert this dataframe to an interactive table.\"\n",
              "            style=\"display:none;\">\n",
              "\n",
              "  <svg xmlns=\"http://www.w3.org/2000/svg\" height=\"24px\" viewBox=\"0 -960 960 960\">\n",
              "    <path d=\"M120-120v-720h720v720H120Zm60-500h600v-160H180v160Zm220 220h160v-160H400v160Zm0 220h160v-160H400v160ZM180-400h160v-160H180v160Zm440 0h160v-160H620v160ZM180-180h160v-160H180v160Zm440 0h160v-160H620v160Z\"/>\n",
              "  </svg>\n",
              "    </button>\n",
              "\n",
              "  <style>\n",
              "    .colab-df-container {\n",
              "      display:flex;\n",
              "      gap: 12px;\n",
              "    }\n",
              "\n",
              "    .colab-df-convert {\n",
              "      background-color: #E8F0FE;\n",
              "      border: none;\n",
              "      border-radius: 50%;\n",
              "      cursor: pointer;\n",
              "      display: none;\n",
              "      fill: #1967D2;\n",
              "      height: 32px;\n",
              "      padding: 0 0 0 0;\n",
              "      width: 32px;\n",
              "    }\n",
              "\n",
              "    .colab-df-convert:hover {\n",
              "      background-color: #E2EBFA;\n",
              "      box-shadow: 0px 1px 2px rgba(60, 64, 67, 0.3), 0px 1px 3px 1px rgba(60, 64, 67, 0.15);\n",
              "      fill: #174EA6;\n",
              "    }\n",
              "\n",
              "    .colab-df-buttons div {\n",
              "      margin-bottom: 4px;\n",
              "    }\n",
              "\n",
              "    [theme=dark] .colab-df-convert {\n",
              "      background-color: #3B4455;\n",
              "      fill: #D2E3FC;\n",
              "    }\n",
              "\n",
              "    [theme=dark] .colab-df-convert:hover {\n",
              "      background-color: #434B5C;\n",
              "      box-shadow: 0px 1px 3px 1px rgba(0, 0, 0, 0.15);\n",
              "      filter: drop-shadow(0px 1px 2px rgba(0, 0, 0, 0.3));\n",
              "      fill: #FFFFFF;\n",
              "    }\n",
              "  </style>\n",
              "\n",
              "    <script>\n",
              "      const buttonEl =\n",
              "        document.querySelector('#df-f681216a-8020-4bf4-9c05-e115adbb42b5 button.colab-df-convert');\n",
              "      buttonEl.style.display =\n",
              "        google.colab.kernel.accessAllowed ? 'block' : 'none';\n",
              "\n",
              "      async function convertToInteractive(key) {\n",
              "        const element = document.querySelector('#df-f681216a-8020-4bf4-9c05-e115adbb42b5');\n",
              "        const dataTable =\n",
              "          await google.colab.kernel.invokeFunction('convertToInteractive',\n",
              "                                                    [key], {});\n",
              "        if (!dataTable) return;\n",
              "\n",
              "        const docLinkHtml = 'Like what you see? Visit the ' +\n",
              "          '<a target=\"_blank\" href=https://colab.research.google.com/notebooks/data_table.ipynb>data table notebook</a>'\n",
              "          + ' to learn more about interactive tables.';\n",
              "        element.innerHTML = '';\n",
              "        dataTable['output_type'] = 'display_data';\n",
              "        await google.colab.output.renderOutput(dataTable, element);\n",
              "        const docLink = document.createElement('div');\n",
              "        docLink.innerHTML = docLinkHtml;\n",
              "        element.appendChild(docLink);\n",
              "      }\n",
              "    </script>\n",
              "  </div>\n",
              "\n",
              "\n",
              "<div id=\"df-580abe02-a508-42b8-9318-40918bc74fba\">\n",
              "  <button class=\"colab-df-quickchart\" onclick=\"quickchart('df-580abe02-a508-42b8-9318-40918bc74fba')\"\n",
              "            title=\"Suggest charts\"\n",
              "            style=\"display:none;\">\n",
              "\n",
              "<svg xmlns=\"http://www.w3.org/2000/svg\" height=\"24px\"viewBox=\"0 0 24 24\"\n",
              "     width=\"24px\">\n",
              "    <g>\n",
              "        <path d=\"M19 3H5c-1.1 0-2 .9-2 2v14c0 1.1.9 2 2 2h14c1.1 0 2-.9 2-2V5c0-1.1-.9-2-2-2zM9 17H7v-7h2v7zm4 0h-2V7h2v10zm4 0h-2v-4h2v4z\"/>\n",
              "    </g>\n",
              "</svg>\n",
              "  </button>\n",
              "\n",
              "<style>\n",
              "  .colab-df-quickchart {\n",
              "      --bg-color: #E8F0FE;\n",
              "      --fill-color: #1967D2;\n",
              "      --hover-bg-color: #E2EBFA;\n",
              "      --hover-fill-color: #174EA6;\n",
              "      --disabled-fill-color: #AAA;\n",
              "      --disabled-bg-color: #DDD;\n",
              "  }\n",
              "\n",
              "  [theme=dark] .colab-df-quickchart {\n",
              "      --bg-color: #3B4455;\n",
              "      --fill-color: #D2E3FC;\n",
              "      --hover-bg-color: #434B5C;\n",
              "      --hover-fill-color: #FFFFFF;\n",
              "      --disabled-bg-color: #3B4455;\n",
              "      --disabled-fill-color: #666;\n",
              "  }\n",
              "\n",
              "  .colab-df-quickchart {\n",
              "    background-color: var(--bg-color);\n",
              "    border: none;\n",
              "    border-radius: 50%;\n",
              "    cursor: pointer;\n",
              "    display: none;\n",
              "    fill: var(--fill-color);\n",
              "    height: 32px;\n",
              "    padding: 0;\n",
              "    width: 32px;\n",
              "  }\n",
              "\n",
              "  .colab-df-quickchart:hover {\n",
              "    background-color: var(--hover-bg-color);\n",
              "    box-shadow: 0 1px 2px rgba(60, 64, 67, 0.3), 0 1px 3px 1px rgba(60, 64, 67, 0.15);\n",
              "    fill: var(--button-hover-fill-color);\n",
              "  }\n",
              "\n",
              "  .colab-df-quickchart-complete:disabled,\n",
              "  .colab-df-quickchart-complete:disabled:hover {\n",
              "    background-color: var(--disabled-bg-color);\n",
              "    fill: var(--disabled-fill-color);\n",
              "    box-shadow: none;\n",
              "  }\n",
              "\n",
              "  .colab-df-spinner {\n",
              "    border: 2px solid var(--fill-color);\n",
              "    border-color: transparent;\n",
              "    border-bottom-color: var(--fill-color);\n",
              "    animation:\n",
              "      spin 1s steps(1) infinite;\n",
              "  }\n",
              "\n",
              "  @keyframes spin {\n",
              "    0% {\n",
              "      border-color: transparent;\n",
              "      border-bottom-color: var(--fill-color);\n",
              "      border-left-color: var(--fill-color);\n",
              "    }\n",
              "    20% {\n",
              "      border-color: transparent;\n",
              "      border-left-color: var(--fill-color);\n",
              "      border-top-color: var(--fill-color);\n",
              "    }\n",
              "    30% {\n",
              "      border-color: transparent;\n",
              "      border-left-color: var(--fill-color);\n",
              "      border-top-color: var(--fill-color);\n",
              "      border-right-color: var(--fill-color);\n",
              "    }\n",
              "    40% {\n",
              "      border-color: transparent;\n",
              "      border-right-color: var(--fill-color);\n",
              "      border-top-color: var(--fill-color);\n",
              "    }\n",
              "    60% {\n",
              "      border-color: transparent;\n",
              "      border-right-color: var(--fill-color);\n",
              "    }\n",
              "    80% {\n",
              "      border-color: transparent;\n",
              "      border-right-color: var(--fill-color);\n",
              "      border-bottom-color: var(--fill-color);\n",
              "    }\n",
              "    90% {\n",
              "      border-color: transparent;\n",
              "      border-bottom-color: var(--fill-color);\n",
              "    }\n",
              "  }\n",
              "</style>\n",
              "\n",
              "  <script>\n",
              "    async function quickchart(key) {\n",
              "      const quickchartButtonEl =\n",
              "        document.querySelector('#' + key + ' button');\n",
              "      quickchartButtonEl.disabled = true;  // To prevent multiple clicks.\n",
              "      quickchartButtonEl.classList.add('colab-df-spinner');\n",
              "      try {\n",
              "        const charts = await google.colab.kernel.invokeFunction(\n",
              "            'suggestCharts', [key], {});\n",
              "      } catch (error) {\n",
              "        console.error('Error during call to suggestCharts:', error);\n",
              "      }\n",
              "      quickchartButtonEl.classList.remove('colab-df-spinner');\n",
              "      quickchartButtonEl.classList.add('colab-df-quickchart-complete');\n",
              "    }\n",
              "    (() => {\n",
              "      let quickchartButtonEl =\n",
              "        document.querySelector('#df-580abe02-a508-42b8-9318-40918bc74fba button');\n",
              "      quickchartButtonEl.style.display =\n",
              "        google.colab.kernel.accessAllowed ? 'block' : 'none';\n",
              "    })();\n",
              "  </script>\n",
              "</div>\n",
              "    </div>\n",
              "  </div>\n"
            ]
          },
          "metadata": {},
          "execution_count": 5
        }
      ]
    },
    {
      "cell_type": "code",
      "source": [
        "sentences = dataset['text'].tolist()"
      ],
      "metadata": {
        "id": "4Y7sq11epX-s"
      },
      "execution_count": 6,
      "outputs": []
    },
    {
      "cell_type": "code",
      "source": [
        "lables = dataset['sentiment'].tolist()"
      ],
      "metadata": {
        "id": "ih7xk-65phcc"
      },
      "execution_count": 7,
      "outputs": []
    },
    {
      "cell_type": "code",
      "source": [
        "for x in range(2):\n",
        "    print(sentences[x])\n",
        "    print(lables[x])\n",
        "    print('\\n')"
      ],
      "metadata": {
        "colab": {
          "base_uri": "https://localhost:8080/"
        },
        "id": "5kjascnEpkfi",
        "outputId": "b67f6578-b19f-43d4-d933-cfbf6c09a4b0"
      },
      "execution_count": 8,
      "outputs": [
        {
          "output_type": "stream",
          "name": "stdout",
          "text": [
            "So there is no way for me to plug it in here in the US unless I go by a converter.\n",
            "0\n",
            "\n",
            "\n",
            "Good case Excellent value.\n",
            "1\n",
            "\n",
            "\n"
          ]
        }
      ]
    },
    {
      "cell_type": "code",
      "source": [
        "import tensorflow_datasets as tfds"
      ],
      "metadata": {
        "id": "g95SxySvpqPs"
      },
      "execution_count": 9,
      "outputs": []
    },
    {
      "cell_type": "code",
      "source": [
        "vocab_size = 1000\n",
        "tokenizer = tfds.deprecated.text.SubwordTextEncoder.build_from_corpus(sentences,vocab_size,max_subword_length=5)"
      ],
      "metadata": {
        "id": "bsW4KjCdpvSx"
      },
      "execution_count": 10,
      "outputs": []
    },
    {
      "cell_type": "code",
      "source": [
        "print(\"vacab size is: \",tokenizer.vocab_size)"
      ],
      "metadata": {
        "colab": {
          "base_uri": "https://localhost:8080/"
        },
        "id": "RxM1XLEYpxid",
        "outputId": "88ec33d3-0dcf-4d9d-b844-7ad3398a3062"
      },
      "execution_count": 11,
      "outputs": [
        {
          "output_type": "stream",
          "name": "stdout",
          "text": [
            "vacab size is:  999\n"
          ]
        }
      ]
    },
    {
      "cell_type": "code",
      "source": [
        "num = 5\n",
        "print(sentences[num])\n",
        "encoder = tokenizer.encode(sentences[num])\n",
        "print(encoder)"
      ],
      "metadata": {
        "colab": {
          "base_uri": "https://localhost:8080/"
        },
        "id": "OCAg2bvVp0c1",
        "outputId": "e031eb91-10dc-4230-c853-bfb6c6089200"
      },
      "execution_count": 12,
      "outputs": [
        {
          "output_type": "stream",
          "name": "stdout",
          "text": [
            "I have to jiggle the plug to get it to line up right to get decent volume.\n",
            "[4, 31, 6, 849, 162, 450, 12, 1, 600, 438, 775, 6, 175, 14, 6, 55, 213, 159, 474, 775, 6, 175, 614, 380, 295, 148, 72, 789]\n"
          ]
        }
      ]
    },
    {
      "cell_type": "code",
      "source": [
        "for i in encoder:\n",
        "    print(tokenizer.decode([i]))"
      ],
      "metadata": {
        "colab": {
          "base_uri": "https://localhost:8080/"
        },
        "id": "VvtTGOTTp3lG",
        "outputId": "ff09c3b0-4102-4449-e841-b0bab384d9d8"
      },
      "execution_count": 13,
      "outputs": [
        {
          "output_type": "stream",
          "name": "stdout",
          "text": [
            "I \n",
            "have \n",
            "to \n",
            "j\n",
            "ig\n",
            "gl\n",
            "e \n",
            "the \n",
            "pl\n",
            "ug\n",
            " \n",
            "to \n",
            "get \n",
            "it \n",
            "to \n",
            "li\n",
            "ne \n",
            "up \n",
            "right\n",
            " \n",
            "to \n",
            "get \n",
            "dec\n",
            "ent \n",
            "vo\n",
            "lu\n",
            "me\n",
            ".\n"
          ]
        }
      ]
    },
    {
      "cell_type": "code",
      "source": [
        "for i,sentence in enumerate(sentences):\n",
        "    sentences[i] = tokenizer.encode(sentence)\n",
        "print(sentences[5])"
      ],
      "metadata": {
        "colab": {
          "base_uri": "https://localhost:8080/"
        },
        "id": "WCBtCS-Jp7VL",
        "outputId": "5df2ec9c-9dc3-4dcf-b89f-1d012bc0b025"
      },
      "execution_count": 14,
      "outputs": [
        {
          "output_type": "stream",
          "name": "stdout",
          "text": [
            "[4, 31, 6, 849, 162, 450, 12, 1, 600, 438, 775, 6, 175, 14, 6, 55, 213, 159, 474, 775, 6, 175, 614, 380, 295, 148, 72, 789]\n"
          ]
        }
      ]
    },
    {
      "cell_type": "code",
      "source": [
        "max_length = 50\n",
        "trunc_type = 'post'\n",
        "padding_type = 'post'"
      ],
      "metadata": {
        "id": "GS22ZB4Zp-zc"
      },
      "execution_count": 15,
      "outputs": []
    },
    {
      "cell_type": "code",
      "source": [
        "sequences_padded = pad_sequences(sentences,maxlen=max_length,padding=padding_type,truncating=trunc_type)"
      ],
      "metadata": {
        "id": "Jx_9X-uJqBiX"
      },
      "execution_count": 16,
      "outputs": []
    },
    {
      "cell_type": "code",
      "source": [
        "training_size = int(len(sentences)*0.8)"
      ],
      "metadata": {
        "id": "Ur7xK3IVqD1f"
      },
      "execution_count": 17,
      "outputs": []
    },
    {
      "cell_type": "code",
      "source": [
        "training_sequences = sequences_padded[0:training_size]\n",
        "testing_sequences = sequences_padded[training_size:]\n",
        "training_labels = lables[0:training_size]\n",
        "testing_labels = lables[training_size:]"
      ],
      "metadata": {
        "id": "6H4Wj4lsqGsH"
      },
      "execution_count": 18,
      "outputs": []
    },
    {
      "cell_type": "code",
      "source": [
        "training_labels_final = np.array(training_labels)\n",
        "testing_labels_final = np.array(testing_labels)"
      ],
      "metadata": {
        "id": "DiRUlgl4qGu8"
      },
      "execution_count": 19,
      "outputs": []
    },
    {
      "cell_type": "code",
      "source": [
        "embedding_dim = 16\n",
        "model = tf.keras.Sequential([\n",
        "    tf.keras.layers.Embedding(vocab_size,embedding_dim,input_length=max_length),\n",
        "    tf.keras.layers.GlobalAveragePooling1D(),\n",
        "    tf.keras.layers.Dense(6,activation='relu'),\n",
        "    tf.keras.layers.Dense(1,activation='sigmoid')\n",
        "])"
      ],
      "metadata": {
        "id": "sLgQlVFGqL2S"
      },
      "execution_count": 20,
      "outputs": []
    },
    {
      "cell_type": "code",
      "source": [
        "num_epochs = 30\n",
        "model.compile(loss='binary_crossentropy', optimizer='adam',metrics=['accuracy'])"
      ],
      "metadata": {
        "id": "SKhmwTchqGyU"
      },
      "execution_count": 21,
      "outputs": []
    },
    {
      "cell_type": "code",
      "source": [
        "history = model.fit(training_sequences,training_labels_final,epochs=num_epochs,validation_data=(testing_sequences,testing_labels_final))"
      ],
      "metadata": {
        "colab": {
          "base_uri": "https://localhost:8080/"
        },
        "id": "xGDJADYnqSNB",
        "outputId": "4930e50a-649d-400a-d6b0-d34b684ba329"
      },
      "execution_count": 22,
      "outputs": [
        {
          "output_type": "stream",
          "name": "stdout",
          "text": [
            "Epoch 1/30\n",
            "50/50 [==============================] - 2s 8ms/step - loss: 0.6911 - accuracy: 0.5317 - val_loss: 0.6979 - val_accuracy: 0.4211\n",
            "Epoch 2/30\n",
            "50/50 [==============================] - 0s 3ms/step - loss: 0.6861 - accuracy: 0.5386 - val_loss: 0.6995 - val_accuracy: 0.4286\n",
            "Epoch 3/30\n",
            "50/50 [==============================] - 0s 4ms/step - loss: 0.6797 - accuracy: 0.5643 - val_loss: 0.6994 - val_accuracy: 0.4436\n",
            "Epoch 4/30\n",
            "50/50 [==============================] - 0s 3ms/step - loss: 0.6681 - accuracy: 0.5782 - val_loss: 0.6841 - val_accuracy: 0.5113\n",
            "Epoch 5/30\n",
            "50/50 [==============================] - 0s 3ms/step - loss: 0.6515 - accuracy: 0.6547 - val_loss: 0.6756 - val_accuracy: 0.5238\n",
            "Epoch 6/30\n",
            "50/50 [==============================] - 0s 4ms/step - loss: 0.6277 - accuracy: 0.7037 - val_loss: 0.6547 - val_accuracy: 0.6190\n",
            "Epoch 7/30\n",
            "50/50 [==============================] - 0s 3ms/step - loss: 0.5971 - accuracy: 0.7489 - val_loss: 0.6478 - val_accuracy: 0.5789\n",
            "Epoch 8/30\n",
            "50/50 [==============================] - 0s 3ms/step - loss: 0.5631 - accuracy: 0.7947 - val_loss: 0.6221 - val_accuracy: 0.6491\n",
            "Epoch 9/30\n",
            "50/50 [==============================] - 0s 4ms/step - loss: 0.5270 - accuracy: 0.8092 - val_loss: 0.5911 - val_accuracy: 0.6967\n",
            "Epoch 10/30\n",
            "50/50 [==============================] - 0s 3ms/step - loss: 0.4903 - accuracy: 0.8462 - val_loss: 0.5950 - val_accuracy: 0.6591\n",
            "Epoch 11/30\n",
            "50/50 [==============================] - 0s 4ms/step - loss: 0.4575 - accuracy: 0.8456 - val_loss: 0.5541 - val_accuracy: 0.7444\n",
            "Epoch 12/30\n",
            "50/50 [==============================] - 0s 4ms/step - loss: 0.4258 - accuracy: 0.8581 - val_loss: 0.5362 - val_accuracy: 0.7368\n",
            "Epoch 13/30\n",
            "50/50 [==============================] - 0s 3ms/step - loss: 0.3970 - accuracy: 0.8707 - val_loss: 0.5386 - val_accuracy: 0.7419\n",
            "Epoch 14/30\n",
            "50/50 [==============================] - 0s 4ms/step - loss: 0.3724 - accuracy: 0.8745 - val_loss: 0.5258 - val_accuracy: 0.7544\n",
            "Epoch 15/30\n",
            "50/50 [==============================] - 0s 4ms/step - loss: 0.3491 - accuracy: 0.8826 - val_loss: 0.5047 - val_accuracy: 0.7544\n",
            "Epoch 16/30\n",
            "50/50 [==============================] - 0s 4ms/step - loss: 0.3291 - accuracy: 0.8895 - val_loss: 0.5039 - val_accuracy: 0.7469\n",
            "Epoch 17/30\n",
            "50/50 [==============================] - 0s 3ms/step - loss: 0.3094 - accuracy: 0.8958 - val_loss: 0.5388 - val_accuracy: 0.7318\n",
            "Epoch 18/30\n",
            "50/50 [==============================] - 0s 4ms/step - loss: 0.2960 - accuracy: 0.8996 - val_loss: 0.4985 - val_accuracy: 0.7544\n",
            "Epoch 19/30\n",
            "50/50 [==============================] - 0s 4ms/step - loss: 0.2810 - accuracy: 0.9058 - val_loss: 0.4959 - val_accuracy: 0.7544\n",
            "Epoch 20/30\n",
            "50/50 [==============================] - 0s 3ms/step - loss: 0.2690 - accuracy: 0.9096 - val_loss: 0.5008 - val_accuracy: 0.7494\n",
            "Epoch 21/30\n",
            "50/50 [==============================] - 0s 3ms/step - loss: 0.2581 - accuracy: 0.9146 - val_loss: 0.5099 - val_accuracy: 0.7594\n",
            "Epoch 22/30\n",
            "50/50 [==============================] - 0s 4ms/step - loss: 0.2477 - accuracy: 0.9184 - val_loss: 0.5241 - val_accuracy: 0.7569\n",
            "Epoch 23/30\n",
            "50/50 [==============================] - 0s 3ms/step - loss: 0.2370 - accuracy: 0.9266 - val_loss: 0.5382 - val_accuracy: 0.7569\n",
            "Epoch 24/30\n",
            "50/50 [==============================] - 0s 3ms/step - loss: 0.2291 - accuracy: 0.9253 - val_loss: 0.5162 - val_accuracy: 0.7569\n",
            "Epoch 25/30\n",
            "50/50 [==============================] - 0s 4ms/step - loss: 0.2185 - accuracy: 0.9322 - val_loss: 0.5334 - val_accuracy: 0.7669\n",
            "Epoch 26/30\n",
            "50/50 [==============================] - 0s 6ms/step - loss: 0.2116 - accuracy: 0.9341 - val_loss: 0.5488 - val_accuracy: 0.7619\n",
            "Epoch 27/30\n",
            "50/50 [==============================] - 0s 4ms/step - loss: 0.2033 - accuracy: 0.9391 - val_loss: 0.5246 - val_accuracy: 0.7569\n",
            "Epoch 28/30\n",
            "50/50 [==============================] - 0s 3ms/step - loss: 0.1959 - accuracy: 0.9460 - val_loss: 0.5711 - val_accuracy: 0.7569\n",
            "Epoch 29/30\n",
            "50/50 [==============================] - 0s 3ms/step - loss: 0.1913 - accuracy: 0.9397 - val_loss: 0.5626 - val_accuracy: 0.7569\n",
            "Epoch 30/30\n",
            "50/50 [==============================] - 0s 3ms/step - loss: 0.1847 - accuracy: 0.9454 - val_loss: 0.5631 - val_accuracy: 0.7569\n"
          ]
        }
      ]
    },
    {
      "cell_type": "code",
      "source": [
        "import matplotlib.pyplot as plt\n",
        "def plot_graphs(history,string):\n",
        "    plt.plot(history.history[string])\n",
        "    plt.plot(history.history['val_'+string])\n",
        "    plt.xlabel('Epochs')\n",
        "    plt.ylabel('string')\n",
        "    plt.legend([string,'val_'+string])\n",
        "    plt.show()\n",
        "\n",
        "plot_graphs(history,'accuracy')\n",
        "plot_graphs(history,'loss')"
      ],
      "metadata": {
        "colab": {
          "base_uri": "https://localhost:8080/",
          "height": 881
        },
        "id": "Hbd1LxLXqz0W",
        "outputId": "1bc39d04-085a-41b8-9a32-7aac26936a04"
      },
      "execution_count": 23,
      "outputs": [
        {
          "output_type": "display_data",
          "data": {
            "text/plain": [
              "<Figure size 640x480 with 1 Axes>"
            ],
            "image/png": "[encoded data removed]"
          },
          "metadata": {}
        },
        {
          "output_type": "display_data",
          "data": {
            "text/plain": [
              "<Figure size 640x480 with 1 Axes>"
            ],
            "image/png": "[encoded data removed]"
          },
          "metadata": {}
        }
      ]
    },
    {
      "cell_type": "code",
      "source": [
        "def predict_review(model,new_sentences,maxlen=max_length,show_padded_sequence=True):\n",
        "    new_sequences = []\n",
        "    for i,frvw in enumerate(new_sentences):\n",
        "        new_sequences.append(tokenizer.encode(frvw))\n",
        "    trunc_type = 'post'\n",
        "    padding_type = 'post'\n",
        "    new_review_padded = pad_sequences(new_sequences,maxlen=max_length,padding=padding_type,truncating=trunc_type)\n",
        "    classes = model.predict(new_review_padded)\n",
        "    for x in range(len(new_sentences)):\n",
        "        if (show_padded_sequence):\n",
        "            print(new_review_padded[x])\n",
        "        print(new_sentences[x])\n",
        "        print(classes[x])\n",
        "        print('\\n')"
      ],
      "metadata": {
        "id": "64m52ud_q2Z4"
      },
      "execution_count": 24,
      "outputs": []
    },
    {
      "cell_type": "code",
      "source": [
        "fake_reviews = ['i love this phone',\"everything was cold\"]"
      ],
      "metadata": {
        "id": "ZnZXGA9Dq5eW"
      },
      "execution_count": 25,
      "outputs": []
    },
    {
      "cell_type": "code",
      "source": [
        "predict_review(model,fake_reviews)"
      ],
      "metadata": {
        "colab": {
          "base_uri": "https://localhost:8080/"
        },
        "id": "fjGcCnteq71j",
        "outputId": "97cb8dcc-159d-45a3-d0d0-5bfee455a3cb"
      },
      "execution_count": 26,
      "outputs": [
        {
          "output_type": "stream",
          "name": "stdout",
          "text": [
            "1/1 [==============================] - 0s 64ms/step\n",
            "[425 281  16  25   0   0   0   0   0   0   0   0   0   0   0   0   0   0\n",
            "   0   0   0   0   0   0   0   0   0   0   0   0   0   0   0   0   0   0\n",
            "   0   0   0   0   0   0   0   0   0   0   0   0   0   0]\n",
            "i love this phone\n",
            "[0.86008227]\n",
            "\n",
            "\n",
            "[272 100 775   9 525 843   0   0   0   0   0   0   0   0   0   0   0   0\n",
            "   0   0   0   0   0   0   0   0   0   0   0   0   0   0   0   0   0   0\n",
            "   0   0   0   0   0   0   0   0   0   0   0   0   0   0]\n",
            "everything was cold\n",
            "[0.47260642]\n",
            "\n",
            "\n"
          ]
        }
      ]
    },
    {
      "cell_type": "code",
      "source": [
        "def fit_model_now(model,sentences):\n",
        "    model.compile(loss='binary_crossentropy',optimizer='adam',metrics=['accuracy'])\n",
        "    model.summary()\n",
        "    history = model.fit(training_sequences,training_labels_final,epochs=num_epochs,validation_data=(testing_sequences,testing_labels_final))\n",
        "    return history"
      ],
      "metadata": {
        "id": "T1Z-B6LvrAAF"
      },
      "execution_count": 27,
      "outputs": []
    },
    {
      "cell_type": "code",
      "source": [
        "def plot_results(history):\n",
        "    plot_graphs(history,'accuracy')\n",
        "    plot_graphs(history,'loss')"
      ],
      "metadata": {
        "id": "wVVH5nckrAF3"
      },
      "execution_count": 28,
      "outputs": []
    },
    {
      "cell_type": "code",
      "source": [
        "def fit_model_and_show_result(model,sentences):\n",
        "    history = fit_model_now(model,sentences)\n",
        "    plot_results(history)\n",
        "    predict_review(model,sentences)"
      ],
      "metadata": {
        "id": "TXMgXjQgrAJW"
      },
      "execution_count": 29,
      "outputs": []
    },
    {
      "cell_type": "code",
      "source": [
        "model_bidi_lstm = tf.keras.Sequential([\n",
        "    tf.keras.layers.Embedding(vocab_size,embedding_dim,input_length=max_length),\n",
        "    tf.keras.layers.Bidirectional(tf.keras.layers.LSTM(embedding_dim)),\n",
        "    tf.keras.layers.Dense(6,activation='relu'),\n",
        "    tf.keras.layers.Dense(1,activation='sigmoid')\n",
        "])"
      ],
      "metadata": {
        "id": "Z9VGBjxDrKC7"
      },
      "execution_count": 30,
      "outputs": []
    },
    {
      "cell_type": "code",
      "source": [
        "fit_model_and_show_result(model_bidi_lstm,fake_reviews)"
      ],
      "metadata": {
        "colab": {
          "base_uri": "https://localhost:8080/",
          "height": 1000
        },
        "id": "ytyUDkrTrSMW",
        "outputId": "cbd63330-55be-4c6d-a35b-e9d722f17906"
      },
      "execution_count": 31,
      "outputs": [
        {
          "output_type": "stream",
          "name": "stdout",
          "text": [
            "Model: \"sequential_1\"\n",
            "_________________________________________________________________\n",
            " Layer (type)                Output Shape              Param #   \n",
            "=================================================================\n",
            " embedding_1 (Embedding)     (None, 50, 16)            16000     \n",
            "                                                                 \n",
            " bidirectional (Bidirection  (None, 32)                4224      \n",
            " al)                                                             \n",
            "                                                                 \n",
            " dense_2 (Dense)             (None, 6)                 198       \n",
            "                                                                 \n",
            " dense_3 (Dense)             (None, 1)                 7         \n",
            "                                                                 \n",
            "=================================================================\n",
            "Total params: 20429 (79.80 KB)\n",
            "Trainable params: 20429 (79.80 KB)\n",
            "Non-trainable params: 0 (0.00 Byte)\n",
            "_________________________________________________________________\n",
            "Epoch 1/30\n",
            "50/50 [==============================] - 5s 41ms/step - loss: 0.6921 - accuracy: 0.5217 - val_loss: 0.6975 - val_accuracy: 0.4110\n",
            "Epoch 2/30\n",
            "50/50 [==============================] - 1s 20ms/step - loss: 0.6739 - accuracy: 0.5273 - val_loss: 0.6698 - val_accuracy: 0.5313\n",
            "Epoch 3/30\n",
            "50/50 [==============================] - 1s 18ms/step - loss: 0.5653 - accuracy: 0.7414 - val_loss: 0.5848 - val_accuracy: 0.6967\n",
            "Epoch 4/30\n",
            "50/50 [==============================] - 1s 18ms/step - loss: 0.3998 - accuracy: 0.8525 - val_loss: 0.4871 - val_accuracy: 0.7694\n",
            "Epoch 5/30\n",
            "50/50 [==============================] - 1s 18ms/step - loss: 0.3002 - accuracy: 0.8939 - val_loss: 0.4850 - val_accuracy: 0.7694\n",
            "Epoch 6/30\n",
            "50/50 [==============================] - 1s 18ms/step - loss: 0.2276 - accuracy: 0.9228 - val_loss: 0.5837 - val_accuracy: 0.7444\n",
            "Epoch 7/30\n",
            "50/50 [==============================] - 1s 18ms/step - loss: 0.1820 - accuracy: 0.9435 - val_loss: 0.6645 - val_accuracy: 0.7519\n",
            "Epoch 8/30\n",
            "50/50 [==============================] - 1s 18ms/step - loss: 0.1423 - accuracy: 0.9592 - val_loss: 0.6557 - val_accuracy: 0.7368\n",
            "Epoch 9/30\n",
            "50/50 [==============================] - 1s 18ms/step - loss: 0.1268 - accuracy: 0.9630 - val_loss: 0.7796 - val_accuracy: 0.7519\n",
            "Epoch 10/30\n",
            "50/50 [==============================] - 1s 18ms/step - loss: 0.1056 - accuracy: 0.9730 - val_loss: 0.7812 - val_accuracy: 0.7594\n",
            "Epoch 11/30\n",
            "50/50 [==============================] - 1s 18ms/step - loss: 0.0793 - accuracy: 0.9824 - val_loss: 0.9773 - val_accuracy: 0.7544\n",
            "Epoch 12/30\n",
            "50/50 [==============================] - 1s 19ms/step - loss: 0.0623 - accuracy: 0.9881 - val_loss: 0.9178 - val_accuracy: 0.7393\n",
            "Epoch 13/30\n",
            "50/50 [==============================] - 1s 30ms/step - loss: 0.0639 - accuracy: 0.9887 - val_loss: 0.9543 - val_accuracy: 0.7494\n",
            "Epoch 14/30\n",
            "50/50 [==============================] - 1s 23ms/step - loss: 0.0536 - accuracy: 0.9900 - val_loss: 1.4109 - val_accuracy: 0.7193\n",
            "Epoch 15/30\n",
            "50/50 [==============================] - 1s 18ms/step - loss: 0.0666 - accuracy: 0.9874 - val_loss: 1.0555 - val_accuracy: 0.7268\n",
            "Epoch 16/30\n",
            "50/50 [==============================] - 1s 29ms/step - loss: 0.0900 - accuracy: 0.9711 - val_loss: 1.1629 - val_accuracy: 0.7218\n",
            "Epoch 17/30\n",
            "50/50 [==============================] - 2s 34ms/step - loss: 0.0571 - accuracy: 0.9900 - val_loss: 1.0206 - val_accuracy: 0.7393\n",
            "Epoch 18/30\n",
            "50/50 [==============================] - 1s 20ms/step - loss: 0.0397 - accuracy: 0.9937 - val_loss: 1.1558 - val_accuracy: 0.7368\n",
            "Epoch 19/30\n",
            "50/50 [==============================] - 1s 18ms/step - loss: 0.0330 - accuracy: 0.9937 - val_loss: 1.1255 - val_accuracy: 0.7368\n",
            "Epoch 20/30\n",
            "50/50 [==============================] - 1s 18ms/step - loss: 0.0309 - accuracy: 0.9956 - val_loss: 1.1854 - val_accuracy: 0.7293\n",
            "Epoch 21/30\n",
            "50/50 [==============================] - 1s 18ms/step - loss: 0.0298 - accuracy: 0.9956 - val_loss: 1.2178 - val_accuracy: 0.7293\n",
            "Epoch 22/30\n",
            "50/50 [==============================] - 1s 18ms/step - loss: 0.0290 - accuracy: 0.9956 - val_loss: 1.1997 - val_accuracy: 0.7293\n",
            "Epoch 23/30\n",
            "50/50 [==============================] - 1s 23ms/step - loss: 0.0283 - accuracy: 0.9956 - val_loss: 1.2331 - val_accuracy: 0.7343\n",
            "Epoch 24/30\n",
            "50/50 [==============================] - 2s 38ms/step - loss: 0.0277 - accuracy: 0.9956 - val_loss: 1.2450 - val_accuracy: 0.7293\n",
            "Epoch 25/30\n",
            "50/50 [==============================] - 1s 21ms/step - loss: 0.0274 - accuracy: 0.9956 - val_loss: 1.2709 - val_accuracy: 0.7318\n",
            "Epoch 26/30\n",
            "50/50 [==============================] - 1s 18ms/step - loss: 0.0271 - accuracy: 0.9956 - val_loss: 1.2407 - val_accuracy: 0.7368\n",
            "Epoch 27/30\n",
            "50/50 [==============================] - 1s 18ms/step - loss: 0.0267 - accuracy: 0.9956 - val_loss: 1.2468 - val_accuracy: 0.7393\n",
            "Epoch 28/30\n",
            "50/50 [==============================] - 1s 18ms/step - loss: 0.0264 - accuracy: 0.9956 - val_loss: 1.2522 - val_accuracy: 0.7444\n",
            "Epoch 29/30\n",
            "50/50 [==============================] - 1s 18ms/step - loss: 0.0260 - accuracy: 0.9956 - val_loss: 1.3337 - val_accuracy: 0.7243\n",
            "Epoch 30/30\n",
            "50/50 [==============================] - 1s 18ms/step - loss: 0.0251 - accuracy: 0.9956 - val_loss: 1.2417 - val_accuracy: 0.7419\n"
          ]
        },
        {
          "output_type": "display_data",
          "data": {
            "text/plain": [
              "<Figure size 640x480 with 1 Axes>"
            ],
            "image/png": "[encoded data removed]"
          },
          "metadata": {}
        },
        {
          "output_type": "display_data",
          "data": {
            "text/plain": [
              "<Figure size 640x480 with 1 Axes>"
            ],
            "image/png": "[encoded data removed]"
          },
          "metadata": {}
        },
        {
          "output_type": "stream",
          "name": "stdout",
          "text": [
            "1/1 [==============================] - 1s 508ms/step\n",
            "[425 281  16  25   0   0   0   0   0   0   0   0   0   0   0   0   0   0\n",
            "   0   0   0   0   0   0   0   0   0   0   0   0   0   0   0   0   0   0\n",
            "   0   0   0   0   0   0   0   0   0   0   0   0   0   0]\n",
            "i love this phone\n",
            "[0.99414486]\n",
            "\n",
            "\n",
            "[272 100 775   9 525 843   0   0   0   0   0   0   0   0   0   0   0   0\n",
            "   0   0   0   0   0   0   0   0   0   0   0   0   0   0   0   0   0   0\n",
            "   0   0   0   0   0   0   0   0   0   0   0   0   0   0]\n",
            "everything was cold\n",
            "[0.05150534]\n",
            "\n",
            "\n"
          ]
        }
      ]
    },
    {
      "cell_type": "code",
      "source": [
        "model_multiple_bidi_lstm = tf.keras.Sequential([\n",
        "    tf.keras.layers.Embedding(vocab_size,embedding_dim,input_length= max_length),\n",
        "    tf.keras.layers.Bidirectional(tf.keras.layers.LSTM(embedding_dim,return_sequences=True)),\n",
        "    tf.keras.layers.Bidirectional(tf.keras.layers.LSTM(embedding_dim)),\n",
        "    tf.keras.layers.Dense(6,activation='relu'),\n",
        "    tf.keras.layers.Dense(1,activation='sigmoid')\n",
        "])"
      ],
      "metadata": {
        "id": "uCpmNHQtrXjp"
      },
      "execution_count": 32,
      "outputs": []
    },
    {
      "cell_type": "code",
      "source": [
        "fit_model_and_show_result(model_multiple_bidi_lstm,fake_reviews)"
      ],
      "metadata": {
        "colab": {
          "base_uri": "https://localhost:8080/",
          "height": 1000
        },
        "id": "cwvuwtYErZ2s",
        "outputId": "db8911d7-d66f-4b54-8f54-222103e8e26a"
      },
      "execution_count": 33,
      "outputs": [
        {
          "output_type": "stream",
          "name": "stdout",
          "text": [
            "Model: \"sequential_2\"\n",
            "_________________________________________________________________\n",
            " Layer (type)                Output Shape              Param #   \n",
            "=================================================================\n",
            " embedding_2 (Embedding)     (None, 50, 16)            16000     \n",
            "                                                                 \n",
            " bidirectional_1 (Bidirecti  (None, 50, 32)            4224      \n",
            " onal)                                                           \n",
            "                                                                 \n",
            " bidirectional_2 (Bidirecti  (None, 32)                6272      \n",
            " onal)                                                           \n",
            "                                                                 \n",
            " dense_4 (Dense)             (None, 6)                 198       \n",
            "                                                                 \n",
            " dense_5 (Dense)             (None, 1)                 7         \n",
            "                                                                 \n",
            "=================================================================\n",
            "Total params: 26701 (104.30 KB)\n",
            "Trainable params: 26701 (104.30 KB)\n",
            "Non-trainable params: 0 (0.00 Byte)\n",
            "_________________________________________________________________\n",
            "Epoch 1/30\n",
            "50/50 [==============================] - 9s 73ms/step - loss: 0.6914 - accuracy: 0.5235 - val_loss: 0.7010 - val_accuracy: 0.4110\n",
            "Epoch 2/30\n",
            "50/50 [==============================] - 2s 40ms/step - loss: 0.6349 - accuracy: 0.5913 - val_loss: 0.6231 - val_accuracy: 0.7393\n",
            "Epoch 3/30\n",
            "50/50 [==============================] - 3s 50ms/step - loss: 0.5206 - accuracy: 0.8236 - val_loss: 0.7870 - val_accuracy: 0.7093\n",
            "Epoch 4/30\n",
            "50/50 [==============================] - 2s 34ms/step - loss: 0.4613 - accuracy: 0.8625 - val_loss: 0.6101 - val_accuracy: 0.7494\n",
            "Epoch 5/30\n",
            "50/50 [==============================] - 2s 34ms/step - loss: 0.4096 - accuracy: 0.8901 - val_loss: 0.7248 - val_accuracy: 0.7469\n",
            "Epoch 6/30\n",
            "50/50 [==============================] - 3s 52ms/step - loss: 0.3825 - accuracy: 0.9033 - val_loss: 0.6771 - val_accuracy: 0.7494\n",
            "Epoch 7/30\n",
            "50/50 [==============================] - 2s 35ms/step - loss: 0.3700 - accuracy: 0.9014 - val_loss: 0.8277 - val_accuracy: 0.7419\n",
            "Epoch 8/30\n",
            "50/50 [==============================] - 2s 44ms/step - loss: 0.3561 - accuracy: 0.9090 - val_loss: 0.8807 - val_accuracy: 0.7444\n",
            "Epoch 9/30\n",
            "50/50 [==============================] - 2s 44ms/step - loss: 0.3387 - accuracy: 0.9140 - val_loss: 0.9584 - val_accuracy: 0.7368\n",
            "Epoch 10/30\n",
            "50/50 [==============================] - 2s 34ms/step - loss: 0.3371 - accuracy: 0.9127 - val_loss: 0.9845 - val_accuracy: 0.7318\n",
            "Epoch 11/30\n",
            "50/50 [==============================] - 2s 34ms/step - loss: 0.3202 - accuracy: 0.9165 - val_loss: 0.9546 - val_accuracy: 0.7268\n",
            "Epoch 12/30\n",
            "50/50 [==============================] - 3s 52ms/step - loss: 0.3056 - accuracy: 0.9215 - val_loss: 1.1912 - val_accuracy: 0.7293\n",
            "Epoch 13/30\n",
            "50/50 [==============================] - 2s 34ms/step - loss: 0.3064 - accuracy: 0.9222 - val_loss: 1.0219 - val_accuracy: 0.7243\n",
            "Epoch 14/30\n",
            "50/50 [==============================] - 2s 35ms/step - loss: 0.2876 - accuracy: 0.9259 - val_loss: 0.8961 - val_accuracy: 0.7494\n",
            "Epoch 15/30\n",
            "50/50 [==============================] - 2s 34ms/step - loss: 0.2928 - accuracy: 0.9240 - val_loss: 0.9237 - val_accuracy: 0.7393\n",
            "Epoch 16/30\n",
            "50/50 [==============================] - 2s 45ms/step - loss: 0.2885 - accuracy: 0.9240 - val_loss: 0.9037 - val_accuracy: 0.7393\n",
            "Epoch 17/30\n",
            "50/50 [==============================] - 2s 46ms/step - loss: 0.2825 - accuracy: 0.9253 - val_loss: 0.9058 - val_accuracy: 0.7293\n",
            "Epoch 18/30\n",
            "50/50 [==============================] - 2s 49ms/step - loss: 0.2819 - accuracy: 0.9240 - val_loss: 0.8314 - val_accuracy: 0.7343\n",
            "Epoch 19/30\n",
            "50/50 [==============================] - 2s 34ms/step - loss: 0.2732 - accuracy: 0.9240 - val_loss: 0.9794 - val_accuracy: 0.7368\n",
            "Epoch 20/30\n",
            "50/50 [==============================] - 2s 35ms/step - loss: 0.2633 - accuracy: 0.9278 - val_loss: 1.0047 - val_accuracy: 0.7469\n",
            "Epoch 21/30\n",
            "50/50 [==============================] - 2s 34ms/step - loss: 0.2522 - accuracy: 0.9322 - val_loss: 1.1283 - val_accuracy: 0.7444\n",
            "Epoch 22/30\n",
            "50/50 [==============================] - 2s 43ms/step - loss: 0.2664 - accuracy: 0.9253 - val_loss: 1.0785 - val_accuracy: 0.7544\n",
            "Epoch 23/30\n",
            "50/50 [==============================] - 2s 50ms/step - loss: 0.2537 - accuracy: 0.9316 - val_loss: 0.7544 - val_accuracy: 0.7594\n",
            "Epoch 24/30\n",
            "50/50 [==============================] - 2s 46ms/step - loss: 0.2451 - accuracy: 0.9353 - val_loss: 0.8382 - val_accuracy: 0.7393\n",
            "Epoch 25/30\n",
            "50/50 [==============================] - 2s 38ms/step - loss: 0.2405 - accuracy: 0.9341 - val_loss: 1.1311 - val_accuracy: 0.7318\n",
            "Epoch 26/30\n",
            "50/50 [==============================] - 2s 34ms/step - loss: 0.2275 - accuracy: 0.9429 - val_loss: 1.1703 - val_accuracy: 0.7293\n",
            "Epoch 27/30\n",
            "50/50 [==============================] - 2s 35ms/step - loss: 0.2235 - accuracy: 0.9410 - val_loss: 1.2939 - val_accuracy: 0.7193\n",
            "Epoch 28/30\n",
            "50/50 [==============================] - 2s 35ms/step - loss: 0.2271 - accuracy: 0.9410 - val_loss: 0.9390 - val_accuracy: 0.7293\n",
            "Epoch 29/30\n",
            "50/50 [==============================] - 2s 34ms/step - loss: 0.2150 - accuracy: 0.9435 - val_loss: 1.0574 - val_accuracy: 0.7268\n",
            "Epoch 30/30\n",
            "50/50 [==============================] - 3s 52ms/step - loss: 0.2546 - accuracy: 0.9309 - val_loss: 0.8148 - val_accuracy: 0.7243\n"
          ]
        },
        {
          "output_type": "display_data",
          "data": {
            "text/plain": [
              "<Figure size 640x480 with 1 Axes>"
            ],
            "image/png": "[encoded data removed]"
          },
          "metadata": {}
        },
        {
          "output_type": "display_data",
          "data": {
            "text/plain": [
              "<Figure size 640x480 with 1 Axes>"
            ],
            "image/png": "[encoded data removed]"
          },
          "metadata": {}
        },
        {
          "output_type": "stream",
          "name": "stdout",
          "text": [
            "1/1 [==============================] - 1s 1s/step\n",
            "[425 281  16  25   0   0   0   0   0   0   0   0   0   0   0   0   0   0\n",
            "   0   0   0   0   0   0   0   0   0   0   0   0   0   0   0   0   0   0\n",
            "   0   0   0   0   0   0   0   0   0   0   0   0   0   0]\n",
            "i love this phone\n",
            "[0.9969392]\n",
            "\n",
            "\n",
            "[272 100 775   9 525 843   0   0   0   0   0   0   0   0   0   0   0   0\n",
            "   0   0   0   0   0   0   0   0   0   0   0   0   0   0   0   0   0   0\n",
            "   0   0   0   0   0   0   0   0   0   0   0   0   0   0]\n",
            "everything was cold\n",
            "[0.23806177]\n",
            "\n",
            "\n"
          ]
        }
      ]
    },
    {
      "cell_type": "code",
      "source": [
        "my_reviews = ['lovely','dreadful','stay away', 'everything was hot exactly as i wanted']"
      ],
      "metadata": {
        "id": "AlRCmXkjrgST"
      },
      "execution_count": 34,
      "outputs": []
    },
    {
      "cell_type": "code",
      "source": [
        "print(\"======================================================\\n\",\"embedded only:\\n\",\"=======================\")\n",
        "predict_review(model,my_reviews,show_padded_sequence=False)"
      ],
      "metadata": {
        "colab": {
          "base_uri": "https://localhost:8080/"
        },
        "id": "AaG1nlSQrjAy",
        "outputId": "30585fff-1e82-4ec9-e7e9-60405850af08"
      },
      "execution_count": 35,
      "outputs": [
        {
          "output_type": "stream",
          "name": "stdout",
          "text": [
            "======================================================\n",
            " embedded only:\n",
            " =======================\n",
            "1/1 [==============================] - 0s 19ms/step\n",
            "lovely\n",
            "[0.9086882]\n",
            "\n",
            "\n",
            "dreadful\n",
            "[0.33200404]\n",
            "\n",
            "\n",
            "stay away\n",
            "[0.63902867]\n",
            "\n",
            "\n",
            "everything was hot exactly as i wanted\n",
            "[0.6876748]\n",
            "\n",
            "\n"
          ]
        }
      ]
    },
    {
      "cell_type": "code",
      "source": [
        "print(\"======================================================\\n\",\"embedded only:\\n\",\"=======================\")\n",
        "predict_review(model_bidi_lstm,my_reviews,show_padded_sequence=False)"
      ],
      "metadata": {
        "colab": {
          "base_uri": "https://localhost:8080/"
        },
        "id": "R9DnKoIvrm3X",
        "outputId": "1ec4d65c-30f7-4ec9-d96f-226cd88f0711"
      },
      "execution_count": 36,
      "outputs": [
        {
          "output_type": "stream",
          "name": "stdout",
          "text": [
            "======================================================\n",
            " embedded only:\n",
            " =======================\n",
            "1/1 [==============================] - 0s 23ms/step\n",
            "lovely\n",
            "[0.9818325]\n",
            "\n",
            "\n",
            "dreadful\n",
            "[0.01320954]\n",
            "\n",
            "\n",
            "stay away\n",
            "[0.0309614]\n",
            "\n",
            "\n",
            "everything was hot exactly as i wanted\n",
            "[0.9414115]\n",
            "\n",
            "\n"
          ]
        }
      ]
    },
    {
      "cell_type": "code",
      "source": [
        "print(\"======================================================\\n\",\"embedded only:\\n\",\"=======================\")\n",
        "predict_review(model_multiple_bidi_lstm,my_reviews,show_padded_sequence=False)"
      ],
      "metadata": {
        "colab": {
          "base_uri": "https://localhost:8080/"
        },
        "id": "i54UtVvYrp4z",
        "outputId": "f6c4ec99-02af-479a-e0e6-2f7f8b1d4b66"
      },
      "execution_count": 37,
      "outputs": [
        {
          "output_type": "stream",
          "name": "stdout",
          "text": [
            "======================================================\n",
            " embedded only:\n",
            " =======================\n",
            "1/1 [==============================] - 0s 27ms/step\n",
            "lovely\n",
            "[0.9985278]\n",
            "\n",
            "\n",
            "dreadful\n",
            "[0.23806177]\n",
            "\n",
            "\n",
            "stay away\n",
            "[0.24476585]\n",
            "\n",
            "\n",
            "everything was hot exactly as i wanted\n",
            "[0.99448484]\n",
            "\n",
            "\n"
          ]
        }
      ]
    },
    {
      "cell_type": "code",
      "source": [],
      "metadata": {
        "id": "iym55T4Br0zE"
      },
      "execution_count": null,
      "outputs": []
    }
  ]
}